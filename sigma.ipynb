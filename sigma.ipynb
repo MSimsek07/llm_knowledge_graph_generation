{
 "cells": [
  {
   "cell_type": "code",
   "execution_count": 1,
   "metadata": {},
   "outputs": [
    {
     "data": {
      "application/vnd.jupyter.widget-view+json": {
       "model_id": "93e70745de5d4bef89798663beee6103",
       "version_major": 2,
       "version_minor": 0
      },
      "text/plain": [
       "Sigma(nx.Graph with 71 nodes and 60 edges)"
      ]
     },
     "execution_count": 1,
     "metadata": {},
     "output_type": "execute_result"
    }
   ],
   "source": [
    "from ipysigma import Sigma\n",
    "from py2neo import Graph\n",
    "import networkx as nx\n",
    "\n",
    "# Connect to the Neo4j database\n",
    "graph = Graph(\"neo4j+s://b01fd59b.databases.neo4j.io\", auth=(\"neo4j\", \"KRLbU9N25h1pAId7oceVXrk8vdA2DRCO5ZE2C0lbk7s\"))\n",
    "\n",
    "# Execute a query that returns all nodes and relationships\n",
    "result = graph.run(\"MATCH (n)-[r]->(m) RETURN n, r, m\")\n",
    "\n",
    "# Create a networkx graph\n",
    "G = nx.Graph()\n",
    "\n",
    "# Add nodes and edges to the graph\n",
    "for record in result:\n",
    "    G.add_node(record['n']['id'])\n",
    "    G.add_node(record['m']['id'])\n",
    "    G.add_edge(record['n']['id'], record['m']['id'], label=str(record['r']))\n",
    "    \n",
    "\n",
    "Sigma(G, node_color=\"gender\",edge_color=\"red\", default_node_size=15)"
   ]
  },
  {
   "cell_type": "code",
   "execution_count": null,
   "metadata": {},
   "outputs": [],
   "source": [
    "!jupyter nbconvert --to html sigma.ipynb"
   ]
  }
 ],
 "metadata": {
  "kernelspec": {
   "display_name": "agprog",
   "language": "python",
   "name": "python3"
  },
  "language_info": {
   "codemirror_mode": {
    "name": "ipython",
    "version": 3
   },
   "file_extension": ".py",
   "mimetype": "text/x-python",
   "name": "python",
   "nbconvert_exporter": "python",
   "pygments_lexer": "ipython3",
   "version": "3.11.8"
  }
 },
 "nbformat": 4,
 "nbformat_minor": 2
}
